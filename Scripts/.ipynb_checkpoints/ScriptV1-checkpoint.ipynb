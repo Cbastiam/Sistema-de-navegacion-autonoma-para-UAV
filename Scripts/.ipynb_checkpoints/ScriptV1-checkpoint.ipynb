{
 "cells": [
  {
   "cell_type": "code",
   "execution_count": 1,
   "metadata": {},
   "outputs": [],
   "source": [
    "import sim\n",
    "import numpy as np\n",
    "import cv2\n",
    "import os"
   ]
  },
  {
   "cell_type": "code",
   "execution_count": 2,
   "metadata": {},
   "outputs": [],
   "source": [
    "def connect(port):\n",
    "# Establece la conexión a VREP\n",
    "# port debe coincidir con el puerto de conexión en VREP\n",
    "# retorna el número de cliente o -1 si no puede establecer conexión\n",
    "    sim.simxFinish(-1) # just in case, close all opened connections\n",
    "    clientID=sim.simxStart('127.0.0.1',port,True,True,2000,5) # Conectarse\n",
    "    if clientID == 0: print(\"conectado a\", port)\n",
    "    else: print(\"no se pudo conectar\")\n",
    "    return clientID"
   ]
  },
  {
   "cell_type": "code",
   "execution_count": 3,
   "metadata": {},
   "outputs": [
    {
     "name": "stdout",
     "output_type": "stream",
     "text": [
      "conectado a 19999\n"
     ]
    }
   ],
   "source": [
    "# Conectarse al servidor de VREP\n",
    "# *** ejecutar cada vez que se reinicia la simulación ***\n",
    "clientID = connect(19999)"
   ]
  },
  {
   "cell_type": "code",
   "execution_count": 4,
   "metadata": {},
   "outputs": [
    {
     "name": "stdout",
     "output_type": "stream",
     "text": [
      "Identificador para la base del dron: 36\n",
      "Identificador para el target del dron: 37\n"
     ]
    }
   ],
   "source": [
    "#Obtener todos los handles de cada objeto del dron en la escena\n",
    "\n",
    "returnCode,V=sim.simxGetObjectHandle(clientID,'Vision_sensor',sim.simx_opmode_blocking)\n",
    "Vision_Sensor = V\n",
    "\n",
    "returnCode,S=sim.simxGetObjectHandle(clientID,'sphericalVisionDepth_sensor',sim.simx_opmode_blocking)\n",
    "Spherical = S\n",
    "\n",
    "returnCode,Base=sim.simxGetObjectHandle(clientID,'Quadcopter_base',sim.simx_opmode_blocking)\n",
    "Base_H = Base\n",
    "returnCode,T=sim.simxGetObjectHandle(clientID,'Quadcopter_target',sim.simx_opmode_blocking)\n",
    "Target = T\n",
    "\n",
    "print('Identificador para la base del dron:', Base_H)\n",
    "print('Identificador para el target del dron:', Target)"
   ]
  },
  {
   "cell_type": "code",
   "execution_count": 60,
   "metadata": {
    "scrolled": true
   },
   "outputs": [
    {
     "name": "stdout",
     "output_type": "stream",
     "text": [
      "[512, 256]\n",
      "[255 255 255 ... 255 255 255]\n",
      "[[[255 255 255]\n",
      "  [255 255 255]\n",
      "  [255 255 255]\n",
      "  ...\n",
      "  [255 255 255]\n",
      "  [255 255 255]\n",
      "  [255 255 255]]\n",
      "\n",
      " [[255 255 255]\n",
      "  [255 255 255]\n",
      "  [255 255 255]\n",
      "  ...\n",
      "  [255 255 255]\n",
      "  [255 255 255]\n",
      "  [255 255 255]]\n",
      "\n",
      " [[255 255 255]\n",
      "  [255 255 255]\n",
      "  [255 255 255]\n",
      "  ...\n",
      "  [255 255 255]\n",
      "  [255 255 255]\n",
      "  [255 255 255]]\n",
      "\n",
      " ...\n",
      "\n",
      " [[255 255 255]\n",
      "  [255 255 255]\n",
      "  [255 255 255]\n",
      "  ...\n",
      "  [255 255 255]\n",
      "  [255 255 255]\n",
      "  [255 255 255]]\n",
      "\n",
      " [[255 255 255]\n",
      "  [255 255 255]\n",
      "  [255 255 255]\n",
      "  ...\n",
      "  [255 255 255]\n",
      "  [255 255 255]\n",
      "  [255 255 255]]\n",
      "\n",
      " [[255 255 255]\n",
      "  [255 255 255]\n",
      "  [255 255 255]\n",
      "  ...\n",
      "  [255 255 255]\n",
      "  [255 255 255]\n",
      "  [255 255 255]]]\n"
     ]
    }
   ],
   "source": [
    "#Prueba de vision\n",
    "returnCode,resolution,image=sim.simxGetVisionSensorImage(clientID,Spherical,0,sim.simx_opmode_buffer)\n",
    "#print(resolution)\n",
    "img = np.array(image, dtype=np.uint8)\n",
    "#print(img)\n",
    "img.resize([resolution[1], resolution[0],3])\n",
    "#print(img)"
   ]
  },
  {
   "cell_type": "code",
   "execution_count": 61,
   "metadata": {},
   "outputs": [
    {
     "name": "stdout",
     "output_type": "stream",
     "text": [
      "(256, 512, 3)\n"
     ]
    }
   ],
   "source": [
    "#img=img.astype(np.uint8)\n",
    "cv2.imshow(\"Synthetic top camera\", img)\n",
    "print(np.shape(img))"
   ]
  },
  {
   "cell_type": "code",
   "execution_count": 62,
   "metadata": {},
   "outputs": [
    {
     "data": {
      "text/plain": [
       "True"
      ]
     },
     "execution_count": 62,
     "metadata": {},
     "output_type": "execute_result"
    }
   ],
   "source": [
    "image_path = r'C:\\Users\\kscer\\Documents\\Universidad\\Semestre 8\\Tesis\\Scripts'\n",
    "\n",
    "  \n",
    "# Image directory\n",
    "directory = r'C:\\Users\\kscer\\Documents\\Universidad\\Semestre 8\\Tesis\\Scripts'\n",
    "os.chdir(directory)\n",
    "cv2.imwrite('Prueba.png', img)"
   ]
  },
  {
   "cell_type": "code",
   "execution_count": 3,
   "metadata": {},
   "outputs": [
    {
     "data": {
      "image/png": "[encoded data removed]",
      "text/plain": [
       "<Figure size 432x288 with 1 Axes>"
      ]
     },
     "metadata": {
      "needs_background": "light"
     },
     "output_type": "display_data"
    }
   ],
   "source": [
    "import random\n",
    "import matplotlib.pyplot as plt\n",
    "import numpy as np\n",
    "\n",
    "A = []\n",
    "B = []\n",
    "for i in range (250000):\n",
    "    A.append(random.randint(-200, -120))\n",
    "    B.append(i)\n",
    "\n",
    "\n",
    "reward = np.array(A)\n",
    "steps  = np.array(B)\n",
    "\n",
    "plt.plot(steps,reward)\n",
    "\n",
    "plt.show()"
   ]
  },
  {
   "cell_type": "code",
   "execution_count": null,
   "metadata": {},
   "outputs": [],
   "source": [
    "#Prueba de movimiento\n",
    "returnCode,pos=sim.simxGetObjectPosition(clientID, Target, -1, sim.simx_opmode_blocking)\n",
    "print('La posicion del robot es', pos)\n",
    "# Establecemos una nueva posicion y ordenamos al robot moverse\n",
    "prueba = -10\n",
    "q2 =  pos\n",
    "for x in np.arange(pos[0],prueba,-0.06):\n",
    "    _,temp_pos=sim.simxGetObjectPosition(clientID, Target, -1, sim.simx_opmode_blocking) \n",
    "    q2[0]= x\n",
    "    returnCode = sim.simxSetObjectPosition(clientID, Target, -1, q2, sim.simx_opmode_oneshot)\n",
    "    while int(q2[0]) != int(temp_pos[0]):\n",
    "        _,temp_pos=sim.simxGetObjectPosition(clientID, Target, -1, sim.simx_opmode_blocking)\n",
    "        print(int(q2[0]), int(temp_pos[0]))\n",
    "    print(returnCode)\n",
    "    \n"
   ]
  },
  {
   "cell_type": "code",
   "execution_count": 1,
   "metadata": {},
   "outputs": [
    {
     "data": {
      "text/plain": [
       "<function matplotlib.pyplot.show(close=None, block=None)>"
      ]
     },
     "execution_count": 1,
     "metadata": {},
     "output_type": "execute_result"
    },
    {
     "data": {
      "image/png": "[encoded data removed]",
      "text/plain": [
       "<Figure size 432x288 with 1 Axes>"
      ]
     },
     "metadata": {
      "needs_background": "light"
     },
     "output_type": "display_data"
    }
   ],
   "source": [
    "import pandas as pd\n",
    "import matplotlib.pyplot as plt \n",
    "dt = pd.read_csv('20211229-053404.csv')\n",
    "df = dt['endCause'].value_counts()\n",
    "print(df)\n",
    "df.plot(kind = 'bar')\n",
    "plt.show\n"
   ]
  }
 ],
 "metadata": {
  "kernelspec": {
   "display_name": "Python 3",
   "language": "python",
   "name": "python3"
  },
  "language_info": {
   "codemirror_mode": {
    "name": "ipython",
    "version": 3
   },
   "file_extension": ".py",
   "mimetype": "text/x-python",
   "name": "python",
   "nbconvert_exporter": "python",
   "pygments_lexer": "ipython3",
   "version": "3.7.10"
  }
 },
 "nbformat": 4,
 "nbformat_minor": 4
}
